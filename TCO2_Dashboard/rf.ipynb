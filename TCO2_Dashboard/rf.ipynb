{
 "cells": [
  {
   "cell_type": "code",
   "execution_count": 2,
   "metadata": {},
   "outputs": [],
   "source": [
    "from helpers import *\n",
    "from import_data import *\n",
    "from data_related_constants import *\n",
    "import pandas as pd"
   ]
  },
  {
   "cell_type": "code",
   "execution_count": 3,
   "metadata": {},
   "outputs": [],
   "source": [
    "df = get_data()\n",
    "\n",
    "#drop duplicates data for BCT calculations\n",
    "df_carbon=drop_duplicates(df)\n",
    "\n",
    "#rename_columns\n",
    "df_carbon=df_carbon.rename(columns=rename_map_carbon)\n",
    "df_carbon=black_list_manipulations(df_carbon)\n"
   ]
  },
  {
   "cell_type": "code",
   "execution_count": 8,
   "metadata": {},
   "outputs": [
    {
     "name": "stdout",
     "output_type": "stream",
     "text": [
      "     index                               Token Address         Region  \\\n",
      "0        1  0x6362364a37f34d39a1f4993fb595dab4116daf0d          China   \n",
      "1        2  0x62896f42cf1371b268db56e50d67c34f3eb1ad7a        Oceania   \n",
      "2        4  0xabfd6760151c7f9361cc5b03bbeebe2d7c0251da  Latin America   \n",
      "3        5  0xf855acf79501609d982e4793f588dff69fc4c7e6         Africa   \n",
      "4        8  0x0f310489a6eb1eeefc815ff3f0574c88a4aaaa06          China   \n",
      "..     ...                                         ...            ...   \n",
      "284    320  0xe20035b4413cdba325c2c056f21fd1c041971efe         Turkey   \n",
      "285    322  0xacc93a8ce0ca0a7f131fb042090ee03da2102121          China   \n",
      "286    323  0x1579568b031c2cd65a2fc3883a07d2e8e28954b7         Turkey   \n",
      "287    324  0xbbb0b227a5999568121f9b3af9153fcbca39e86e    South Korea   \n",
      "288    325  0x81b978517aeae9a3378fd9e98c03116457508624          India   \n",
      "\n",
      "    carbonOffsets_vintage carbonOffsets_projectID carbonOffsets_standard  \\\n",
      "0              1325376000                VCS-1529                    VCS   \n",
      "1              1404172800                 VCS-674                    VCS   \n",
      "2              1388534400                 VCS-981                    VCS   \n",
      "3              1351728000                 VCS-934                    VCS   \n",
      "4              1388534400                VCS-1529                    VCS   \n",
      "..                    ...                     ...                    ...   \n",
      "284            1375315200                 VCS-713                    VCS   \n",
      "285            1298678400                VCS-1188                    VCS   \n",
      "286            1483228800                VCS-1427                    VCS   \n",
      "287            1420070400                VCS-1146                    VCS   \n",
      "288            1325376000                 VCS-837                    VCS   \n",
      "\n",
      "    carbonOffsets_methodology   BCT Quantity  Quantity  \\\n",
      "0                      VM0010       0.000000   19750.0   \n",
      "1                      VM0004       0.090976  229030.0   \n",
      "2                      VM0015       0.010572    4829.0   \n",
      "3                      VM0009       0.000000   32000.0   \n",
      "4                      VM0010       0.000000   40000.0   \n",
      "..                        ...            ...       ...   \n",
      "284                   ACM0002   27465.000000   27465.0   \n",
      "285                   ACM0002    2369.000000    2369.0   \n",
      "286                   ACM0002   30294.000000   30294.0   \n",
      "287                   ACM0012  300000.000000  300000.0   \n",
      "288                    AM0029  100000.000000  100000.0   \n",
      "\n",
      "     carbonOffsets_bridges_value  carbonOffsets_bridges_timestamp  \n",
      "0                         9750.0                       1634999377  \n",
      "1                          100.0                       1634170733  \n",
      "2                         4829.0                       1634410456  \n",
      "3                        32000.0                       1634574997  \n",
      "4                        40000.0                       1634813607  \n",
      "..                           ...                              ...  \n",
      "284                       1725.0                       1634587467  \n",
      "285                       2369.0                       1634589518  \n",
      "286                      30294.0                       1634588989  \n",
      "287                     300000.0                       1634583597  \n",
      "288                     100000.0                       1634580113  \n",
      "\n",
      "[289 rows x 11 columns]\n"
     ]
    },
    {
     "ename": "KeyError",
     "evalue": "'Vintage'",
     "output_type": "error",
     "traceback": [
      "\u001b[0;31m---------------------------------------------------------------------------\u001b[0m",
      "\u001b[0;31mKeyError\u001b[0m                                  Traceback (most recent call last)",
      "File \u001b[0;32m~/Desktop/klima_projects/envs/env2/lib/python3.10/site-packages/pandas/core/indexes/base.py:3621\u001b[0m, in \u001b[0;36mIndex.get_loc\u001b[0;34m(self, key, method, tolerance)\u001b[0m\n\u001b[1;32m   3620\u001b[0m \u001b[38;5;28;01mtry\u001b[39;00m:\n\u001b[0;32m-> 3621\u001b[0m     \u001b[38;5;28;01mreturn\u001b[39;00m \u001b[38;5;28;43mself\u001b[39;49m\u001b[38;5;241;43m.\u001b[39;49m\u001b[43m_engine\u001b[49m\u001b[38;5;241;43m.\u001b[39;49m\u001b[43mget_loc\u001b[49m\u001b[43m(\u001b[49m\u001b[43mcasted_key\u001b[49m\u001b[43m)\u001b[49m\n\u001b[1;32m   3622\u001b[0m \u001b[38;5;28;01mexcept\u001b[39;00m \u001b[38;5;167;01mKeyError\u001b[39;00m \u001b[38;5;28;01mas\u001b[39;00m err:\n",
      "File \u001b[0;32m~/Desktop/klima_projects/envs/env2/lib/python3.10/site-packages/pandas/_libs/index.pyx:136\u001b[0m, in \u001b[0;36mpandas._libs.index.IndexEngine.get_loc\u001b[0;34m()\u001b[0m\n",
      "File \u001b[0;32m~/Desktop/klima_projects/envs/env2/lib/python3.10/site-packages/pandas/_libs/index.pyx:163\u001b[0m, in \u001b[0;36mpandas._libs.index.IndexEngine.get_loc\u001b[0;34m()\u001b[0m\n",
      "File \u001b[0;32mpandas/_libs/hashtable_class_helper.pxi:5198\u001b[0m, in \u001b[0;36mpandas._libs.hashtable.PyObjectHashTable.get_item\u001b[0;34m()\u001b[0m\n",
      "File \u001b[0;32mpandas/_libs/hashtable_class_helper.pxi:5206\u001b[0m, in \u001b[0;36mpandas._libs.hashtable.PyObjectHashTable.get_item\u001b[0;34m()\u001b[0m\n",
      "\u001b[0;31mKeyError\u001b[0m: 'Vintage'",
      "\nThe above exception was the direct cause of the following exception:\n",
      "\u001b[0;31mKeyError\u001b[0m                                  Traceback (most recent call last)",
      "Input \u001b[0;32mIn [8]\u001b[0m, in \u001b[0;36m<module>\u001b[0;34m\u001b[0m\n\u001b[1;32m      1\u001b[0m \u001b[38;5;28mprint\u001b[39m(df_carbon)\n\u001b[0;32m----> 2\u001b[0m df_carbon[\u001b[38;5;124m\"\u001b[39m\u001b[38;5;124mVintage\u001b[39m\u001b[38;5;124m\"\u001b[39m]\u001b[38;5;241m=\u001b[39mpd\u001b[38;5;241m.\u001b[39mto_datetime(\u001b[43mdf_carbon\u001b[49m\u001b[43m[\u001b[49m\u001b[38;5;124;43m\"\u001b[39;49m\u001b[38;5;124;43mVintage\u001b[39;49m\u001b[38;5;124;43m\"\u001b[39;49m\u001b[43m]\u001b[49m,unit\u001b[38;5;241m=\u001b[39m\u001b[38;5;124m'\u001b[39m\u001b[38;5;124ms\u001b[39m\u001b[38;5;124m'\u001b[39m)\u001b[38;5;241m.\u001b[39mdt\u001b[38;5;241m.\u001b[39mtz_localize(\u001b[38;5;28;01mNone\u001b[39;00m)\u001b[38;5;241m.\u001b[39mdt\u001b[38;5;241m.\u001b[39myear\n",
      "File \u001b[0;32m~/Desktop/klima_projects/envs/env2/lib/python3.10/site-packages/pandas/core/frame.py:3506\u001b[0m, in \u001b[0;36mDataFrame.__getitem__\u001b[0;34m(self, key)\u001b[0m\n\u001b[1;32m   3504\u001b[0m \u001b[38;5;28;01mif\u001b[39;00m \u001b[38;5;28mself\u001b[39m\u001b[38;5;241m.\u001b[39mcolumns\u001b[38;5;241m.\u001b[39mnlevels \u001b[38;5;241m>\u001b[39m \u001b[38;5;241m1\u001b[39m:\n\u001b[1;32m   3505\u001b[0m     \u001b[38;5;28;01mreturn\u001b[39;00m \u001b[38;5;28mself\u001b[39m\u001b[38;5;241m.\u001b[39m_getitem_multilevel(key)\n\u001b[0;32m-> 3506\u001b[0m indexer \u001b[38;5;241m=\u001b[39m \u001b[38;5;28;43mself\u001b[39;49m\u001b[38;5;241;43m.\u001b[39;49m\u001b[43mcolumns\u001b[49m\u001b[38;5;241;43m.\u001b[39;49m\u001b[43mget_loc\u001b[49m\u001b[43m(\u001b[49m\u001b[43mkey\u001b[49m\u001b[43m)\u001b[49m\n\u001b[1;32m   3507\u001b[0m \u001b[38;5;28;01mif\u001b[39;00m is_integer(indexer):\n\u001b[1;32m   3508\u001b[0m     indexer \u001b[38;5;241m=\u001b[39m [indexer]\n",
      "File \u001b[0;32m~/Desktop/klima_projects/envs/env2/lib/python3.10/site-packages/pandas/core/indexes/base.py:3623\u001b[0m, in \u001b[0;36mIndex.get_loc\u001b[0;34m(self, key, method, tolerance)\u001b[0m\n\u001b[1;32m   3621\u001b[0m     \u001b[38;5;28;01mreturn\u001b[39;00m \u001b[38;5;28mself\u001b[39m\u001b[38;5;241m.\u001b[39m_engine\u001b[38;5;241m.\u001b[39mget_loc(casted_key)\n\u001b[1;32m   3622\u001b[0m \u001b[38;5;28;01mexcept\u001b[39;00m \u001b[38;5;167;01mKeyError\u001b[39;00m \u001b[38;5;28;01mas\u001b[39;00m err:\n\u001b[0;32m-> 3623\u001b[0m     \u001b[38;5;28;01mraise\u001b[39;00m \u001b[38;5;167;01mKeyError\u001b[39;00m(key) \u001b[38;5;28;01mfrom\u001b[39;00m \u001b[38;5;21;01merr\u001b[39;00m\n\u001b[1;32m   3624\u001b[0m \u001b[38;5;28;01mexcept\u001b[39;00m \u001b[38;5;167;01mTypeError\u001b[39;00m:\n\u001b[1;32m   3625\u001b[0m     \u001b[38;5;66;03m# If we have a listlike key, _check_indexing_error will raise\u001b[39;00m\n\u001b[1;32m   3626\u001b[0m     \u001b[38;5;66;03m#  InvalidIndexError. Otherwise we fall through and re-raise\u001b[39;00m\n\u001b[1;32m   3627\u001b[0m     \u001b[38;5;66;03m#  the TypeError.\u001b[39;00m\n\u001b[1;32m   3628\u001b[0m     \u001b[38;5;28mself\u001b[39m\u001b[38;5;241m.\u001b[39m_check_indexing_error(key)\n",
      "\u001b[0;31mKeyError\u001b[0m: 'Vintage'"
     ]
    }
   ],
   "source": [
    "print(df_carbon)\n",
    "df_carbon[\"Vintage\"]=pd.to_datetime(df_carbon[\"Vintage\"],unit='s').dt.tz_localize(None).dt.year"
   ]
  }
 ],
 "metadata": {
  "interpreter": {
   "hash": "66a8c4697e5b8d10e399572fca01f3f8c01bb47b615b66af398de4ac35b1a9c0"
  },
  "kernelspec": {
   "display_name": "Python 3.10.2 ('env2': venv)",
   "language": "python",
   "name": "python3"
  },
  "language_info": {
   "codemirror_mode": {
    "name": "ipython",
    "version": 3
   },
   "file_extension": ".py",
   "mimetype": "text/x-python",
   "name": "python",
   "nbconvert_exporter": "python",
   "pygments_lexer": "ipython3",
   "version": "3.10.2"
  },
  "orig_nbformat": 4
 },
 "nbformat": 4,
 "nbformat_minor": 2
}
