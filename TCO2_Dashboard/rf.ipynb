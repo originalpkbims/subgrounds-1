{
 "cells": [
  {
   "cell_type": "code",
   "execution_count": 92,
   "metadata": {},
   "outputs": [],
   "source": [
    "from helpers import *\n",
    "from subgrounds.subgrounds import to_dataframe\n",
    "from data_related_constants import *\n",
    "import pandas as pd\n",
    "import datetime as dt\n",
    "from subgrounds.subgrounds import Subgrounds"
   ]
  },
  {
   "cell_type": "code",
   "execution_count": 91,
   "metadata": {},
   "outputs": [],
   "source": [
    "def get_data():\n",
    "                      \n",
    "    sg = Subgrounds()\n",
    "    carbon_data = sg.load_subgraph('https://api.thegraph.com/subgraphs/name/cujowolf/polygon-bridged-carbon')\n",
    "\n",
    "    carbon_offsets = carbon_data.Query.carbonOffsets(\n",
    "    orderBy=carbon_data.CarbonOffset.lastUpdate,\n",
    "    orderDirection='desc',\n",
    "    first = 4999\n",
    "    )\n",
    "\n",
    "    req = sg.mk_request([\n",
    "    carbon_offsets.tokenAddress,\n",
    "    carbon_offsets.region,\n",
    "    carbon_offsets.vintage,\n",
    "    carbon_offsets.projectID,\n",
    "    carbon_offsets.standard,\n",
    "    carbon_offsets.methodology,\n",
    "    carbon_offsets.balanceBCT,\n",
    "    # carbon_offsets.balanceNCT,\n",
    "    carbon_offsets.totalBridged,\n",
    "    carbon_offsets.retirements.value,\n",
    "    \n",
    "    ])\n",
    "\n",
    "    data = sg.execute(req)\n",
    "    df = to_dataframe(data)\n",
    "    \n",
    "    return df\n",
    "\n",
    "\n",
    "\n"
   ]
  },
  {
   "cell_type": "code",
   "execution_count": 90,
   "metadata": {},
   "outputs": [
    {
     "ename": "AttributeError",
     "evalue": "'Subgrounds' object has no attribute 'query_df'",
     "output_type": "error",
     "traceback": [
      "\u001b[0;31m---------------------------------------------------------------------------\u001b[0m",
      "\u001b[0;31mAttributeError\u001b[0m                            Traceback (most recent call last)",
      "Input \u001b[0;32mIn [90]\u001b[0m, in \u001b[0;36m<module>\u001b[0;34m\u001b[0m\n\u001b[0;32m----> 1\u001b[0m df_r \u001b[38;5;241m=\u001b[39m \u001b[43mget_data_2\u001b[49m\u001b[43m(\u001b[49m\u001b[43m)\u001b[49m\n",
      "Input \u001b[0;32mIn [80]\u001b[0m, in \u001b[0;36mget_data_2\u001b[0;34m()\u001b[0m\n\u001b[1;32m      3\u001b[0m carbon_data \u001b[38;5;241m=\u001b[39m sg\u001b[38;5;241m.\u001b[39mload_subgraph(\u001b[38;5;124m'\u001b[39m\u001b[38;5;124mhttps://api.thegraph.com/subgraphs/name/cujowolf/polygon-bridged-carbon\u001b[39m\u001b[38;5;124m'\u001b[39m)\n\u001b[1;32m      5\u001b[0m carbon_offsets \u001b[38;5;241m=\u001b[39m carbon_data\u001b[38;5;241m.\u001b[39mQuery\u001b[38;5;241m.\u001b[39mcarbonOffsets(\n\u001b[1;32m      6\u001b[0m orderBy\u001b[38;5;241m=\u001b[39mcarbon_data\u001b[38;5;241m.\u001b[39mCarbonOffset\u001b[38;5;241m.\u001b[39mlastUpdate,\n\u001b[1;32m      7\u001b[0m orderDirection\u001b[38;5;241m=\u001b[39m\u001b[38;5;124m'\u001b[39m\u001b[38;5;124mdesc\u001b[39m\u001b[38;5;124m'\u001b[39m,\n\u001b[1;32m      8\u001b[0m first \u001b[38;5;241m=\u001b[39m \u001b[38;5;241m4999\u001b[39m\n\u001b[1;32m      9\u001b[0m )\n\u001b[0;32m---> 11\u001b[0m req \u001b[38;5;241m=\u001b[39m \u001b[43msg\u001b[49m\u001b[38;5;241;43m.\u001b[39;49m\u001b[43mquery_df\u001b[49m([\n\u001b[1;32m     12\u001b[0m carbon_offsets\u001b[38;5;241m.\u001b[39mtokenAddress,\n\u001b[1;32m     13\u001b[0m     carbon_offsets\u001b[38;5;241m.\u001b[39mregion,\n\u001b[1;32m     14\u001b[0m     carbon_offsets\u001b[38;5;241m.\u001b[39mvintage,\n\u001b[1;32m     15\u001b[0m     carbon_offsets\u001b[38;5;241m.\u001b[39mprojectID,\n\u001b[1;32m     16\u001b[0m     carbon_offsets\u001b[38;5;241m.\u001b[39mstandard,\n\u001b[1;32m     17\u001b[0m     carbon_offsets\u001b[38;5;241m.\u001b[39mmethodology,\n\u001b[1;32m     18\u001b[0m     carbon_offsets\u001b[38;5;241m.\u001b[39mbalanceBCT,\n\u001b[1;32m     19\u001b[0m     \u001b[38;5;66;03m# carbon_offsets.balanceNCT,\u001b[39;00m\n\u001b[1;32m     20\u001b[0m     carbon_offsets\u001b[38;5;241m.\u001b[39mtotalBridged,\n\u001b[1;32m     21\u001b[0m     carbon_offsets\u001b[38;5;241m.\u001b[39mretirements\u001b[38;5;241m.\u001b[39mvalue\n\u001b[1;32m     22\u001b[0m ])\n\u001b[1;32m     24\u001b[0m \u001b[38;5;66;03m# data = sg.execute(req)\u001b[39;00m\n\u001b[1;32m     25\u001b[0m \n\u001b[1;32m     26\u001b[0m \u001b[38;5;66;03m# df = to_dataframe(data)\u001b[39;00m\n\u001b[1;32m     27\u001b[0m \u001b[38;5;66;03m# print(df)\u001b[39;00m\n\u001b[1;32m     28\u001b[0m \u001b[38;5;28;01mreturn\u001b[39;00m req\n",
      "\u001b[0;31mAttributeError\u001b[0m: 'Subgrounds' object has no attribute 'query_df'"
     ]
    }
   ],
   "source": [
    "df_r = get_data_2()"
   ]
  }
 ],
 "metadata": {
  "interpreter": {
   "hash": "66a8c4697e5b8d10e399572fca01f3f8c01bb47b615b66af398de4ac35b1a9c0"
  },
  "kernelspec": {
   "display_name": "Python 3.10.2 ('env2': venv)",
   "language": "python",
   "name": "python3"
  },
  "language_info": {
   "codemirror_mode": {
    "name": "ipython",
    "version": 3
   },
   "file_extension": ".py",
   "mimetype": "text/x-python",
   "name": "python",
   "nbconvert_exporter": "python",
   "pygments_lexer": "ipython3",
   "version": "3.10.2"
  },
  "orig_nbformat": 4
 },
 "nbformat": 4,
 "nbformat_minor": 2
}
